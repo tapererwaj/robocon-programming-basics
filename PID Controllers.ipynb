{
 "cells": [
  {
   "cell_type": "markdown",
   "id": "6badf794-a0c1-45e4-b99a-b62381f4004a",
   "metadata": {},
   "source": [
    "# Introduction to PID Controllers\n",
    "\n",
    "A [PID Controller](https://en.wikipedia.org/wiki/Proportional%E2%80%93integral%E2%80%93derivative_controller) is a type of feedback control system that allows us to achieve a desired outcome whilst taking into account errors and limitations of physical devices.\n",
    "\n",
    "When trying to control, for example, the speed of a motor, we use a power source and a motor driver connected to the motor and we can adjust the motor output but varying the current we supply to the motor driver. However due to manufacturing inconsistencies and other physical factors, it will be difficult for the motor to consistently spin at a desired RPM. This is where PID Controllers come into play.\n",
    "\n",
    "PID works on the error in the system. The error is the difference between the desired outcome and the actual outcome.\n",
    "\n",
    "<center>\n",
    "    $u(t) = K_p\\,e(t) + K_i\\,\\int\\limits_0^t e(\\tau) d\\tau + K_d \\frac{\\delta e(t)}{\\delta t}$\n",
    "</center>\n",
    "\n",
    "PID is an acronym for:\n",
    "- **P** - Proportional,\n",
    "- **I** - Integral,\n",
    "- **D** - Derivative.\n",
    "\n",
    "<center>\n",
    "<img src=\"https://i0.wp.com/microcontrollerslab.com/wp-content/uploads/2019/02/2-PID-controller-Arduino.png?ssl=1\" width=\"800\" height=\"800\" alt=\"PID Controller Diagram\" />\n",
    "</center>\n",
    "\n",
    "### Proportional (Present)\n",
    "\n",
    "The **Proportional Control** is responsible for the response time of the system. It controls how fast our system will try to reduce the error.\n",
    "<center>\n",
    "<img src=\"https://www.clippard.com/cms/sites/default/files/wiki_images/typical-pi-behaviors.png\" width=\"600\" height=\"600\" alt=\"PID Controller Diagram\" />\n",
    "</center>\n",
    "\n",
    "### Integral (Past)\n",
    "\n",
    "The **Integral Control** keeps track of past errors in order to reduce the overshoot as show in the graphs above. When the error is too small that the **Proportional** controller cannot effect the system, then the **Integral** controller helps to stabilize the system.\n",
    "\n",
    "### Derivative (Future)\n",
    "\n",
    "The **Derivative Control** checks how fast the error is changing and adjusts the system. Its a mechanism to dampen the oscillations of the system. \n",
    "\n",
    "<center>\n",
    "<img src=\"https://www.researchgate.net/publication/360323251/figure/fig10/AS:1155429602201611@1652487292245/Principle-of-Derivative-Controller.ppm\" width=\"500\" height=\"500\" alt=\"PID Controller Diagram\" />\n",
    "</center>\n",
    "\n",
    "## Anti-Windup\n",
    "\n",
    "Physical devices such as motors or sensors are non-linear. They have a maximum output or reading they can give. When such a device reaches this limit, we call the scenario **saturation**.\n",
    "\n",
    "In some cases, our PID controller might cause the controlled device to saturate, i.e. the controller output is beyond the saturation level. This will cause issues when the system is about to reach the desired outcome. Since the device has saturated and the controller's output is very high, then the system will overshoot the desired outcome and take longer to come back to the desired outcome as the controller tries to **windup**.\n",
    "\n",
    "<center>\n",
    "<img src=\"https://www.researchgate.net/profile/Ayyarao_Tummala/publication/317490264/figure/fig1/AS:503583687626752@1497075115261/Speed-output-with-anti-windup-controller-regained-to-reference-speed-within-05-s-But.png\" width=\"400\" height=\"400\" alt=\"PID Controller Diagram\" />\n",
    "</center>\n",
    "\n",
    "In order to prevent this from happening, we implement **[anti-windup](https://www.bing.com/ck/a?!&&p=ad0951ad6aee0ab2JmltdHM9MTY5MzAwODAwMCZpZ3VpZD0yMDU3MDRhYi01NmVlLTY1NDAtMzVhZS0xNzk2NTc0NzY0NTgmaW5zaWQ9NTIxMA&ptn=3&hsh=3&fclid=205704ab-56ee-6540-35ae-179657476458&psq=antiwindup&u=a1aHR0cHM6Ly93d3cubWF0aHdvcmtzLmNvbS9oZWxwL3NpbXVsaW5rL3NscmVmL2FudGktd2luZHVwLWNvbnRyb2wtdXNpbmctYS1waWQtY29udHJvbGxlci5odG1s&ntb=1)** methods. A common example is the **Clamping method**"
   ]
  },
  {
   "cell_type": "code",
   "execution_count": null,
   "id": "20f92b13-8f91-425f-8fea-21536f3a1d79",
   "metadata": {},
   "outputs": [],
   "source": []
  }
 ],
 "metadata": {
  "kernelspec": {
   "display_name": "C++ 14",
   "language": "cpp",
   "name": "cpp14"
  },
  "language_info": {
   "file_extension": ".cpp",
   "mimetype": "text/x-csrc",
   "name": "text/x-csrc"
  }
 },
 "nbformat": 4,
 "nbformat_minor": 5
}
