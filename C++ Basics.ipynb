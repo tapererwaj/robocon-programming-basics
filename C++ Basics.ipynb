{
 "cells": [
  {
   "cell_type": "markdown",
   "id": "ec2895f8-2a16-4705-b00a-166721e666a6",
   "metadata": {},
   "source": [
    "# C++ Basics"
   ]
  },
  {
   "cell_type": "markdown",
   "id": "c23c6066-e416-469a-b71e-47639a5b1dd2",
   "metadata": {},
   "source": [
    "It is an [Object Oriented Programming (OOP)](https://www.geeksforgeeks.org/introduction-of-object-oriented-programming/) language derived from the **C** programming language.\n",
    "\n",
    "During this workshop, we are going to cover the following:\n",
    "1. **[Installation](#1.-Installation)**, <img src=\"./Images/Web_Programmer_01_generated.jpg\" width=\"450\" height=\"450\" style=\"float:right\" title=\"Source: Vecteezy.com\" />\n",
    "2. **[Syntax](#2.-Syntax)**,\n",
    "3. **[Data Types](#3.-Data-Types)**, \n",
    "4. **[Comments](#4.-Comments)**,\n",
    "5. **[Output](#5.-Output)**,\n",
    "6. **[Variables](#6.-Variables)**,\n",
    "7. **[User Input](#7.-User-Input)**,\n",
    "8. **[Operators](#8.-Operators)**,\n",
    "9. **[Math](#9.-Math)**,\n",
    "10. **[Conditions](#10.-Conditions)**,\n",
    "11. **[Loops](#11.-Loops)**,\n",
    "12. **[Functions](#12.-Functions)**.\n",
    "    \n",
    "<hr>"
   ]
  },
  {
   "cell_type": "markdown",
   "id": "94edafdf-3685-43db-be35-241fb9398330",
   "metadata": {
    "jp-MarkdownHeadingCollapsed": true
   },
   "source": [
    "\n",
    "## 1. Installation\n",
    "\n",
    "For C++ programming, we will be using **Visual Studio Code (Vscode)** as our [Integrated Development Environment (IDE)](https://www.redhat.com/en/topics/middleware/what-is-ide).\n",
    "\n",
    "\n",
    "> To setup the IDE follow the steps in [this guide](https://drive.google.com/file/d/1uWCZdlZrZ9Ot8JN-MQNznsefelxE5VEA/view?usp=sharing).\n",
    ">\n",
    "> Optional - a comprehensive list of [Vscode keyboard shortcuts](https://drive.google.com/file/d/1Q-kcPZL0L_Zu9G4r5QnupA5L0IkhBrW4/view?usp=sharing)."
   ]
  },
  {
   "cell_type": "markdown",
   "id": "ec8afdfe-90d7-41e1-9f53-ecdb5736fc23",
   "metadata": {
    "jp-MarkdownHeadingCollapsed": true
   },
   "source": [
    "\n",
    "## 2. Syntax\n",
    "\n",
    "Below is a simple C++ program:"
   ]
  },
  {
   "cell_type": "code",
   "execution_count": null,
   "id": "6bbdd7b6-fddb-412c-ab43-2ed9aaf05e99",
   "metadata": {},
   "outputs": [],
   "source": [
    "#include <iostream>\n",
    "using namespace std;\n",
    "\n",
    "int main() {\n",
    "  cout << \"Hello World!\";\n",
    "  return 0;\n",
    "}"
   ]
  },
  {
   "cell_type": "markdown",
   "id": "14255755-82c2-4c90-9225-6cccac4b1a77",
   "metadata": {},
   "source": [
    "#### Code Exaplained\n",
    "\n",
    "**Line 1:** `#include <iostream>` This how we can use another programmer code or built-in libraries which allow us to easily perform tasks that would otherwise be tedious or complex. **iostream** wrapped by angle brackets is a standard C++ Library which allows us to get **input** from and display an **output** to the user. \n",
    "\n",
    "**Line 2:** `using namespace std;` allows us to directly use the [functions](https://www.w3schools.com/cpp/cpp_functions.asp) from the standard libraries by just their name.\n",
    "\n",
    "**Line 3:** It is a blank line which will be skipped by the [Compiler](https://www.freecodecamp.org/news/c-compiler-explained-what-is-the-compiler-and-how-do-you-use-it/) \n",
    "\n",
    "**Line 4:** `int main()` This is called a function in C++. This is the *main* function for any C++ program which is mandatory for the program to run. Functions include the curly braces *{ }* to specify that whatever is in-between them belongs to the function.\n",
    "\n",
    "**Line 5:** `cout << \"Hello World!\";` This line displays the text *Hello World!* to the user. This is one way to show information to the user by using the *cout* (see-out) function from the *iostream* library.\n",
    "\n",
    "**Line 6:** `return 0` This is a required line for the main function. It's a way to end the *main* function\n",
    "\n",
    "**Line 7:** `}` The curly brace signifies the end of the function to the compiler.\n",
    "\n",
    "> Notice how most lines have a semi-colon *;* at the end, this tells the compiler that this is the end of the line.\n",
    "> For more information you can visit [W3Schools](https://www.w3schools.com/cpp/cpp_syntax.asp)"
   ]
  },
  {
   "cell_type": "markdown",
   "id": "172c658e-61b1-4a6f-9ffc-f9408c8702e6",
   "metadata": {
    "jp-MarkdownHeadingCollapsed": true
   },
   "source": [
    "\n",
    "## 3. Data Types\n",
    "\n",
    "Data Types allow us to specify, to the compiler, the type of information a [variable](https://www.w3schools.com/cpp/cpp_variables.asp) is supposed to store.\n",
    "\n",
    "Below is a list of the basic Data Types:\n",
    "\n",
    "| Data Type | Size | Description |\n",
    "| --- | --- | :- |\n",
    "| bolean | 1 byte | Stores true or false values |\n",
    "| char | 1 byte | Stores a single character/letter/number or [ASCII](https://en.wikipedia.org/wiki/ASCII) values |\n",
    "| int | 2 or 4 bytes | Stores whole numbers without decimals |\n",
    "| float | 4 bytes | Stores fractional numbers, containing one or more decimals. Sufficient for storing 6 - 7 decimal digits. |\n",
    "| double | 8 bytes | Similar to *float* but sufficient for storing 15 decimal digits|\n",
    "\n",
    "*Adapted from W3Schools*"
   ]
  },
  {
   "cell_type": "markdown",
   "id": "84d59c03-bf71-4778-ac42-59649008b1e0",
   "metadata": {
    "jp-MarkdownHeadingCollapsed": true
   },
   "source": [
    "\n",
    "## 4. Comments\n",
    "\n",
    "Comments can be used to explain C++ code, and to make it more readable. It can also be used to prevent execution when testing alternative code. Comments can be singled-lined or multi-lined."
   ]
  },
  {
   "cell_type": "markdown",
   "id": "8272af31-4563-4a2b-af5a-c8356e5a5685",
   "metadata": {},
   "source": [
    "#### Single-Lined Comment"
   ]
  },
  {
   "cell_type": "code",
   "execution_count": null,
   "id": "966325fe-9921-445c-b4ed-2046a840fbdf",
   "metadata": {},
   "outputs": [],
   "source": [
    "// This is an example of a single line comment\n",
    "std::cout << \"Hello World!\";\n",
    "\n",
    "std::cout << \"Do you like Robocon\"; // This is another way to write a single-line comment"
   ]
  },
  {
   "cell_type": "markdown",
   "id": "55b1cac1-d309-4057-82df-cb319ebbb5a8",
   "metadata": {},
   "source": [
    "#### Multi-Lined Comment"
   ]
  },
  {
   "cell_type": "code",
   "execution_count": null,
   "id": "ba0218c5-98e8-49da-855f-72c82b8de77c",
   "metadata": {},
   "outputs": [],
   "source": [
    "/*\n",
    "    This is a multi-line comment\n",
    "    Take note of start and end markers\n",
    "    This can be useful when trying to prevent a block of code from being executed.\n",
    "*/\n",
    "\n",
    "std::cout << \"Hello world!\";"
   ]
  },
  {
   "cell_type": "markdown",
   "id": "33b50389-7b00-4dd7-af50-766cbaabd526",
   "metadata": {
    "jp-MarkdownHeadingCollapsed": true
   },
   "source": [
    "## 5. Output\n",
    "\n",
    "For output in C++ we need to import the `iostream` library.\n",
    "\n",
    "To import a libary use `#include` and the name of the library wrapped in angle brackets as shown below:"
   ]
  },
  {
   "cell_type": "code",
   "execution_count": null,
   "id": "e91c191c-3aea-4f26-9336-6d9174463c9e",
   "metadata": {},
   "outputs": [],
   "source": [
    "#include <iostream> // This is how to import a standard library"
   ]
  },
  {
   "cell_type": "markdown",
   "id": "7060997d-c85f-4539-a25b-1785d45b5128",
   "metadata": {},
   "source": [
    "To display information to the user, we use the *cout* function from the *iostream* library as follows: *Remember to add the **main** function so that your program can be executed!*"
   ]
  },
  {
   "cell_type": "code",
   "execution_count": null,
   "id": "40ff0354-e917-43a9-a94b-486706abb885",
   "metadata": {},
   "outputs": [],
   "source": [
    "#include <iostream>\n",
    "\n",
    "int main()\n",
    "{\n",
    "    std::cout << \"Hello everyone!\";\n",
    "return 0;\n",
    "}"
   ]
  },
  {
   "cell_type": "markdown",
   "id": "d316b1a2-4332-428b-9a20-ef8132e64806",
   "metadata": {},
   "source": [
    "\n",
    "Note the use of `<<` this is called a [bitwise operator](https://www.geeksforgeeks.org/bitwise-operators-in-c-cpp/) which allows us to display the information we want. In this case, we are displaying the text *Hello everyone!* which is a [string](https://www.w3schools.com/cpp/cpp_strings.asp)\n",
    "\n",
    "> To specify a *string*, you wrap the desired text inside double quotation marks.\n",
    "\n",
    "To finish it off, we add the `;` semi-colon to tell the compiler that this is the end of our line. \n",
    "lastly add the `return 0` line to tell the compilier that this the end of the *main* function.\n",
    "\n",
    "**Next, write a C++ program that displays your name.**"
   ]
  },
  {
   "cell_type": "markdown",
   "id": "3dbc6f8b-7067-4001-99fa-c59c41c3c498",
   "metadata": {
    "jp-MarkdownHeadingCollapsed": true
   },
   "source": [
    "## 6. Variables\n",
    "\n",
    "Variables are containers for storing data values.\n",
    "\n",
    "To declare or define a variable you need to specify the Data Type and assign it a value.\n",
    "\n",
    "#### Syntax\n",
    "\n",
    "```C++\n",
    "type variableName = value; \n",
    "```\n",
    "\n",
    "**Note that the variable name should not start with numbers, you can use letters/characters.**\n",
    "\n",
    "There are a couple of ways when it comes to picking a variable name such as camelCase etc, later we will come up with Coding Standards for Robocon that will specify how we pick variable names etc.\n",
    "\n",
    "#### Example"
   ]
  },
  {
   "cell_type": "code",
   "execution_count": null,
   "id": "f1fca503-bbc1-46b2-937f-35c7cac53b11",
   "metadata": {},
   "outputs": [],
   "source": [
    "int myAge = 21; // this variable is of type int\n",
    "\n",
    "bool _single = true; // can store true or false values\n",
    "\n",
    "float gasConstant = 8.314; // can store decimal digits\n",
    "\n",
    "double pi_Value = 3.142;\n",
    "\n",
    "char member_1 = 'c'; // can only store a single character/letter/number."
   ]
  },
  {
   "cell_type": "markdown",
   "id": "1fa64336-11b7-4c66-92f6-c0794eebf5ec",
   "metadata": {},
   "source": [
    "#### Strings in C++\n",
    "\n",
    "Strings are a concatenation of letters, numbers and characters.<br>\n",
    "Consider the *member_1* variable above, what if we wanted to assign a person's full name to it?\n",
    "\n",
    "There are 2 ways to achive this:\n",
    "1. By creating an array of characters (*char*)\n",
    "2. By using the String library\n",
    "\n",
    "#### 1. Declaring an Array\n",
    "Arrays are a collections of data which is of the same type.<br>\n",
    "To declare an array for any data type, you specify the type, the number of items the array can accommodate and an initial value (optional).\n",
    "\n",
    "#### Syntax\n",
    "\n",
    "```C++\n",
    "type arrayName[arrayLength] = value;\n",
    "```\n",
    "    \n",
    "#### Example"
   ]
  },
  {
   "cell_type": "code",
   "execution_count": null,
   "id": "a797faa8-1c59-45d3-9a5e-6b4aec83b95f",
   "metadata": {},
   "outputs": [],
   "source": [
    "char name[6] = \"Chris\"; // array of characters\n",
    "\n",
    "int primeNumbers[3] = {1, 3, 5}; // array of integers"
   ]
  },
  {
   "cell_type": "markdown",
   "id": "043c3e45-e7d9-40c9-b7d4-efd47e9466dc",
   "metadata": {},
   "source": [
    "\n",
    "**Please note that in C++, array indexing starts at 0 not 1**\n",
    "\n",
    "In the case above, `int primeNumbers[3] = {1, 3, 5};` the value *1* will have an index of 0 and the value *3* will have an index of 1.\n",
    "\n",
    "#### 2. Using String Library\n",
    "\n",
    "For this method, you need to import the string library first. You then declare a new variable of type *string*.\n",
    "\n",
    "#### Example"
   ]
  },
  {
   "cell_type": "code",
   "execution_count": null,
   "id": "a1f77ccf-85d8-4895-a2de-662b520d1c6b",
   "metadata": {},
   "outputs": [],
   "source": [
    "#include <string> // include the string library\n",
    "using namespace std;\n",
    "\n",
    "int main()\n",
    "{\n",
    "    // declare a variable of type string\n",
    "    string name = \"Chris\";\n",
    "return 0;\n",
    "}"
   ]
  },
  {
   "cell_type": "markdown",
   "id": "3e76860a-d48d-4274-bb17-4b14612bc152",
   "metadata": {},
   "source": [
    "For more information and examples, visit [W3schoools](https://www.w3schools.com/cpp/cpp_variables.asp)"
   ]
  },
  {
   "cell_type": "markdown",
   "id": "172ee2fd-e4af-4ef9-b8cd-89c7ea6dc50b",
   "metadata": {
    "jp-MarkdownHeadingCollapsed": true
   },
   "source": [
    "## 7. User Input\n",
    "\n",
    "For input in C++ we use the `iostream` library.\n",
    "To get user input, we use the `cin` keyword and the `>>` bitwise operator followed by the variable to store the input.\n",
    "\n",
    "***cin* usually converts the inputted value into the data type of the specified variable**\n",
    "\n",
    "#### Syntax\n",
    "\n",
    "```C++\n",
    "cin >> variableName\n",
    "```\n",
    "\n",
    "#### Example"
   ]
  },
  {
   "cell_type": "code",
   "execution_count": null,
   "id": "89ab196d-9803-49e7-86d5-5c9ae7294a97",
   "metadata": {},
   "outputs": [],
   "source": [
    "#include <iostream> // include library for input and output\n",
    "using namespace std; // allows us to omit the std:: when using cin\n",
    "\n",
    "int main()\n",
    "{\n",
    "    // declare variable to store age\n",
    "    int myAge; // note how I omitted the value\n",
    "    cin >> myAge; // request user input and store the value in the variable myAge\n",
    "\n",
    "return 0; // notify compiler that the main function ends here\n",
    "}"
   ]
  },
  {
   "cell_type": "markdown",
   "id": "93c3ae6d-0617-42cd-bc20-1e734e900cfe",
   "metadata": {},
   "source": [
    "#### Another Example"
   ]
  },
  {
   "cell_type": "code",
   "execution_count": null,
   "id": "bf4d35f6-d3d5-458b-a05b-e1a96bb2499d",
   "metadata": {},
   "outputs": [],
   "source": [
    "#include <iostream>\n",
    "#include <string> // import library for strings\n",
    "using namespace std;\n",
    "\n",
    "int main()\n",
    "{\n",
    "    // declare variable to store name\n",
    "    string name;\n",
    "    cin >> name;\n",
    "\n",
    "    // display inputted name\n",
    "    cout << \"How are you \" << name;\n",
    "\n",
    "return 0; // notify compiler that the main function ends here\n",
    "}"
   ]
  },
  {
   "cell_type": "markdown",
   "id": "e8461f61-f386-465f-a642-e4801217976c",
   "metadata": {},
   "source": [
    "#### Example Explained\n",
    "\n",
    "This example asks for a user's name and displays.\n",
    "To achieve this, we imported the *string* library using `#include <string>`\n",
    "\n",
    "To display the inputted value, we used *cout* and *<<* bitwise operator.\n",
    "\n",
    "**Notice how I repeated the bitwise operator *<<***\n",
    "\n",
    "When you want to display text and the value of a variable in the same line, you can use the bitwise operator to concatenate the output."
   ]
  },
  {
   "cell_type": "markdown",
   "id": "5a9f4197-ea66-4b5a-9ff1-6fb34a91f4e7",
   "metadata": {
    "jp-MarkdownHeadingCollapsed": true
   },
   "source": [
    "## 8. Operators\n",
    "\n",
    "Operators are used to perform operations on variables and values.\n",
    "\n",
    "C++ Operators are categorised as follows:\n",
    "- Arithmetic operators\n",
    "- Assignment operators\n",
    "- Comparison operators\n",
    "- Logical operators\n",
    "- Bitwise operators\n",
    "\n",
    "*For this workshop, we won't cover Bitwise Operators*\n",
    "\n",
    "*Adapted from W3Schools*\n",
    "\n",
    "### Arithmetic operators\n",
    "\n",
    "| Operator\t| Name | Description | Example |\n",
    "| :-: | --- | :- | :-: |\n",
    "| +\t| Addition\t| Adds together two values |x + y|\n",
    "| -\t| Subtraction | Subtracts one value from another | x - y |\n",
    "| *\t| Multiplication | Multiplies two values | x * y |\n",
    "| /\t| Division | Divides one value by another | x / y |\n",
    "| %\t| Modulus | Returns the division remainder | x % y |\n",
    "| ++ | Increment | Increases the value of a variable by 1 | ++x |\n",
    "| -- | Decrement | Decreases the value of a variable by 1 | --x |\n",
    "\n",
    "> For the **Increment** and **Decrement** operators, placing them before the variable will modify the variable before doing any other operations and the vice versa applies when placing the operators after the variable.\n",
    "\n",
    "#### Example"
   ]
  },
  {
   "cell_type": "code",
   "execution_count": null,
   "id": "3598da41-5fcb-4035-ab13-348c802c97f9",
   "metadata": {},
   "outputs": [],
   "source": [
    "#include <iostream>\n",
    "using namespace std;\n",
    "\n",
    "int main()\n",
    "{\n",
    "    // declare variable to store integers\n",
    "    int x = 10;\n",
    "    int y = 5;\n",
    "\n",
    "    //placing the -- operator before the variable\n",
    "    y = ++x;\n",
    "    cout << \"y = \" << y << endl;\n",
    "\n",
    "    //placing the -- operator after the variable\n",
    "    y = x--;\n",
    "    cout << \"Placing the operator after a variable:\" << endl;\n",
    "    cout << \"y = \" << y << endl;\n",
    "    cout << \"x = \" << x << endl;\n",
    "\n",
    "return 0; // notify compiler that the main function ends here\n",
    "}"
   ]
  },
  {
   "cell_type": "markdown",
   "id": "455dec29-9c77-4e23-9e96-da8ab197c347",
   "metadata": {},
   "source": [
    "**Note:** `endl` means end line which tells the compiler to start on a new line the next time we use `cout`\n",
    "\n",
    "### Assignment Operators\n",
    "\n",
    "| Operator\t| Example | Same As |\n",
    "| :-: | --- | :- |\n",
    "| = | x = 5 | x = 5 |\n",
    "| += | x += 3 | x = x + 3 |\n",
    "| -= | x -= 3 | x = x - 3 |\n",
    "| *= | x *= 3 | x = x * 3 |\n",
    "| /= | x /= 3 | x = x / 3 |\n",
    "| %= | x %= 3 | x = x % 3 |\n",
    "| &= | x &= 3 | x = x & 3 |\n",
    "| \\|= | x \\|= 3 | x = x \\| 3 |\n",
    "| ^= | x ^= 3 | x = x ^ 3 |\n",
    "| >>= | x >>= 3 | x = x >> 3 |\n",
    "| <<= | x <<= 3 | x = x << 3 |\n",
    "\n",
    "### Comparison Operators\n",
    "\n",
    "| Operator\t| Name | Example |\n",
    "| :-: | --- | :- |\n",
    "| == | Equal to | x == y |\n",
    "| != | Not equal | x != y |\n",
    "| > | Greater than | x > y |\n",
    "| < | Less than | x < y |\n",
    "| >= | Greater than or equal to | x >= y |\n",
    "| <= | Less than or equal to | x <= y |\n",
    "\n",
    "### Logical Operators\n",
    "\n",
    "| Operator\t| Name | Description | Example |\n",
    "| :-: | --- | :- | :-: |\n",
    "| && | Logical and\t| Returns true if both statements are true | x < 5 &&  x < 10 |\n",
    "| \\|\\| | \tLogical or | Returns true if one of the statements is true | x < 5 \\|\\| x < 4 |\n",
    "| ! | Logical not | Reverse the result, returns false if the result is true | !(x < 5 && x < 10) |\n",
    "\n",
    "### Order of Precedence\n",
    "\n",
    "If parenthesis are omitted from Logical expressions, the default precedence of operations is:\n",
    "\n",
    "- Perform `!` operations first,\n",
    "- Perform relational operations such as `<` next,\n",
    "- Perform `&&` operations next,\n",
    "- Perform `||` operations last.\n",
    "\n",
    "#### Example\n",
    "\n",
    "The expression:\n",
    "`(x + 1) > 2 || (x + 1) < −3`\n",
    "\n",
    "is equivalent to:\n",
    "`((x + 1) > 2)||((x + 1) < −3)` **Because > and < have higher precedence than ||**\n",
    "\n",
    "And it is also equivalent to:\n",
    "`x + 1 > 2 || x + 1 < −3`\r"
   ]
  },
  {
   "cell_type": "code",
   "execution_count": null,
   "id": "3fc54674-d110-49fe-b7af-054159ad76a9",
   "metadata": {},
   "outputs": [],
   "source": [
    "x + 1 > 2 || x + 1 < −3"
   ]
  },
  {
   "cell_type": "markdown",
   "id": "3881daf6-7f25-422c-887e-95ac9c28460c",
   "metadata": {
    "jp-MarkdownHeadingCollapsed": true
   },
   "source": [
    "## 9. Math\n",
    "\n",
    "C++ has many functions that allows you to perform mathematical operations on numbers.\n",
    "You can use arithmetic operators for basic mathematics:\n",
    "\n",
    "#### Example"
   ]
  },
  {
   "cell_type": "code",
   "execution_count": null,
   "id": "fab6af0a-aadf-41e7-a1b6-8423329b2c52",
   "metadata": {},
   "outputs": [],
   "source": [
    "int x = 5;\n",
    "int y = 10;\n",
    "\n",
    "std::cout << x + y; // addition\n",
    "\n",
    "std::cout << x - y; // subtraction\n",
    "\n",
    "std::cout << x * y; // multiplication\n",
    "\n",
    "std::cout << x / y; // division"
   ]
  },
  {
   "cell_type": "markdown",
   "id": "b66cb9b7-fe63-41a8-8fe6-e158a8fb4d8a",
   "metadata": {},
   "source": [
    "C++ has builtin mathematical functions such as `min(x, y)` and `max(x, y)` which can select the minimum and maximum number between 2 numbers.\n",
    "\n",
    "#### Example"
   ]
  },
  {
   "cell_type": "code",
   "execution_count": null,
   "id": "37ce4d60-ed72-497d-8a00-06f3648e04af",
   "metadata": {},
   "outputs": [],
   "source": [
    "int x = 5;\n",
    "int y = 10;\n",
    "\n",
    "std::cout << std::min(x, y); // Outputs 5 since x < y\n",
    "\n",
    "std::cout << std::max(x, y); // Outputs 10 since y > x"
   ]
  },
  {
   "cell_type": "markdown",
   "id": "3f98d0e1-1f57-4ed3-987d-c1fe0e56f36c",
   "metadata": {},
   "source": [
    "Other functions, such as `sqrt` (square root), `round` (rounds a number) and `log` (natural logarithm), can be found in the `<cmath>` header file:"
   ]
  },
  {
   "cell_type": "code",
   "execution_count": null,
   "id": "304c9608-205c-474f-9c39-3729d4cabf0e",
   "metadata": {},
   "outputs": [],
   "source": [
    "#include <cmath> // Import CMath header file\n",
    "#include <iostream>\n",
    "\n",
    "using namespace std;\n",
    "\n",
    "int main()\n",
    "{\n",
    "    cout << sqrt(36);\n",
    "    cout << round(3.142);\n",
    "    cout << log(20);\n",
    "    \n",
    "    return 0;\n",
    "}"
   ]
  },
  {
   "cell_type": "markdown",
   "id": "6ac1be19-a2d3-42b3-ac4e-79de5b0184b3",
   "metadata": {
    "jp-MarkdownHeadingCollapsed": true
   },
   "source": [
    "## 10. Conditions\n",
    "\n",
    "Conditional statements allow us to perform different tasks based on a decision.\n",
    "\n",
    "C++ has the following conditional statements:\n",
    "- Use `if` to specify a block of code to be executed, if a specified condition is true.\n",
    "- Use `else` to specify a block of code to be executed, if the same condition is false.\n",
    "- Use `else if` to specify a new condition to test, if the first condition is false.\n",
    "- Use `switch` to specify many alternative blocks of code to be executed.\n",
    "\n",
    "*Adapted from W3schools*\n",
    "\n",
    "**Note that the keywords are all in lowercase letters, using uppercase will result is an error**\n",
    "\n",
    "### If Statement\n",
    "\n",
    "#### Syntax\n",
    "\n",
    "```C++\n",
    "if(condition)\n",
    "{\n",
    "    //do something\n",
    "}\n",
    "```\n",
    "\n",
    "When the `condition` is *true*, the code inside the curly braces will be executed.\n",
    "\n",
    "#### Example"
   ]
  },
  {
   "cell_type": "code",
   "execution_count": null,
   "id": "4c4f5585-227d-4da9-bd0b-0a986f0cfa52",
   "metadata": {},
   "outputs": [],
   "source": [
    "int legalDrivingAge = 18;\n",
    "int myAge = 16;\n",
    "\n",
    "if(myAge < legalDrivingAge)\n",
    "{\n",
    "    std::cout << \"You are too young to drive!\";\n",
    "}"
   ]
  },
  {
   "cell_type": "markdown",
   "id": "f0db1f32-f07f-4570-8409-a61cb5c94259",
   "metadata": {
    "jp-MarkdownHeadingCollapsed": true
   },
   "source": [
    "### If Else Statement\n",
    "\n",
    "#### Syntax\n",
    "\n",
    "```C++\n",
    "if(condition)\n",
    "{\n",
    "    //do ABC\n",
    "}\n",
    "else\n",
    "{\n",
    "    // do XYZ\n",
    "}\n",
    "```\n",
    "\n",
    "When the `condition` is *true*, the code *ABC* will be executed, if the condition is *false* then the code *XYZ* will be executed.\n",
    "\n",
    "#### Example"
   ]
  },
  {
   "cell_type": "code",
   "execution_count": null,
   "id": "15adbc38-b412-4dde-9616-2455f019cbdf",
   "metadata": {},
   "outputs": [],
   "source": [
    "int legalDrivingAge = 18;\n",
    "int myAge = 16;\n",
    "\n",
    "if(myAge < legalDrivingAge)\n",
    "{\n",
    "    std::cout << \"You are too young to drive!\";\n",
    "}\n",
    "else\n",
    "{\n",
    "    std::cout << \"Congratulations, you can drive!\";\n",
    "}"
   ]
  },
  {
   "cell_type": "markdown",
   "id": "d329b074-c448-4b5f-bdea-9d55a3461219",
   "metadata": {
    "jp-MarkdownHeadingCollapsed": true
   },
   "source": [
    "### If, Else if Statement\n",
    "\n",
    "#### Syntax\n",
    "\n",
    "```C++\n",
    "if(condition1)\n",
    "{\n",
    "    //do ABC\n",
    "}\n",
    "else if(condition2)\n",
    "{\n",
    "    // do XYZ\n",
    "}\n",
    "```\n",
    "\n",
    "When `condition1` is *true*, the code *ABC* will be executed, if `condition1` is *false* then we check `condition2`. If `condition2` is *true* then code *XYZ* will be executed.\n",
    "\n",
    "#### Example"
   ]
  },
  {
   "cell_type": "code",
   "execution_count": null,
   "id": "5f2dc220-d350-4b4e-893e-0d28fb692747",
   "metadata": {},
   "outputs": [],
   "source": [
    "double CGPA = 3.4;\n",
    "\n",
    "if(CGPA > 3 && CGPA < 3.5) // condition 1: Is your CGPA greater than 3 but less than 3.5\n",
    "{\n",
    "    std::cout << \"Congratulations, you're eligible for a scholarship!\";\n",
    "}\n",
    "else if(CGPA > 3.5)\n",
    "{\n",
    "    std::cout << \"Congratulations, you will get Dean's List!\";\n",
    "}"
   ]
  },
  {
   "cell_type": "markdown",
   "id": "71804e0d-8ac9-47f5-88fc-2c18c5ebbdbe",
   "metadata": {
    "jp-MarkdownHeadingCollapsed": true
   },
   "source": [
    "### Switch Statement\n",
    "\n",
    "#### Syntax\n",
    "\n",
    "```C++\n",
    "switch(value)\n",
    "{\n",
    "    case option1:\n",
    "        //do something\n",
    "    break;\n",
    "    case option2:\n",
    "        //do something\n",
    "    break;\n",
    "    case option3:\n",
    "        //do something\n",
    "    break;\n",
    "    default:\n",
    "        // do something\n",
    "    break;\n",
    "}\n",
    "```\n",
    "\n",
    "**Switch statements require a character or number as input**\n",
    "\n",
    "- You specify the possible values you want to switch between by using the `case` keyword.\n",
    "- The `break` is to separate the cases from each other, such that the code for option2 will not be executed when option1 is executed.\n",
    "- The `default` block is used to accommodate values which do not have a `case` to handle them.\n",
    "\n",
    "#### Example"
   ]
  },
  {
   "cell_type": "code",
   "execution_count": null,
   "id": "3d20b2ef-87be-426b-9bcd-5ccdab968c48",
   "metadata": {},
   "outputs": [],
   "source": [
    "int age = 18;\n",
    "\n",
    "switch(age)\n",
    "{\n",
    "    case 18:\n",
    "        std::cout << \"You can drive\";\n",
    "    break;\n",
    "    case 16:\n",
    "        std::cout << \"You cannot drive\";\n",
    "    break;\n",
    "    default:\n",
    "        std::cout << \"Please enter an age of 16 or 18!\";\n",
    "    break;\n",
    "}"
   ]
  },
  {
   "cell_type": "markdown",
   "id": "1ef1d7f6-610b-4c5e-b154-2b079b91f782",
   "metadata": {
    "jp-MarkdownHeadingCollapsed": true
   },
   "source": [
    "## 11. Loops\n",
    "\n",
    "Loops in C++ allow us to iterate over a block of code until a condition is met.\n",
    "\n",
    "In C++ we have:\n",
    "- While Loops,\n",
    "- For Loops.\n",
    "\n",
    "Loops can help save time and reduce the chances of making errors.\n",
    "\n",
    "### While Loops\n",
    "\n",
    "#### Syntax\n",
    "\n",
    "```C++\n",
    "while(condition)\n",
    "{\n",
    "    // do something\n",
    "}\n",
    "```\n",
    "\n",
    "The code inside the curly braces will be executed continuously as long as the `condition` is *true*.\n",
    "\n",
    "#### Example"
   ]
  },
  {
   "cell_type": "code",
   "execution_count": null,
   "id": "c273b7ce-5c78-4b5c-826e-d5b73a8e46ef",
   "metadata": {},
   "outputs": [],
   "source": [
    "int count = 10;\n",
    "\n",
    "while(count > 0)\n",
    "{\n",
    "    // deduct 1 from the variable\n",
    "    count--; // using the decrement operator to update the variable\n",
    "}"
   ]
  },
  {
   "cell_type": "markdown",
   "id": "1c659812-e7de-4886-a785-8d830799ac44",
   "metadata": {},
   "source": [
    "### For Loops\n",
    "\n",
    "**For Loops** are slightly different from **While Loops** in that the loop runs for a specified number of times.\n",
    "\n",
    "#### Syntax\n",
    "\n",
    "```C++\n",
    "for(initializer; end condition; step)\n",
    "{\n",
    "    // do something\n",
    "}\n",
    "```\n",
    "\n",
    "- The code inside the curly braces will be executed continuously as long as the `end condition` hasn't been met.\n",
    "- The `initializer` defines the start of the loop.\n",
    "- The `step` specifies how the iterates from one value to the next.\n",
    "\n",
    "#### Example"
   ]
  },
  {
   "cell_type": "code",
   "execution_count": null,
   "id": "caa18941-f3c9-4dca-9024-0a844e7046d3",
   "metadata": {},
   "outputs": [],
   "source": [
    "for(int index = 0; index < 10; index++) // For Loop to count from 0 to 9\n",
    "{\n",
    "    std::cout << index; //display the value of index\n",
    "}"
   ]
  },
  {
   "cell_type": "markdown",
   "id": "f418c222-df12-4346-89c6-ad148f0ec47d",
   "metadata": {
    "jp-MarkdownHeadingCollapsed": true
   },
   "source": [
    "#### Code Explained\n",
    "\n",
    "- `int index = 0` We declare a variable called `index` that has an initial value of *0*.\n",
    "- `index < 10` This is our `end condition` which specifies that the loop should run only if the index has a value less than 10.\n",
    "- `index++` Specifies that the value for `index` should be incremented by 1 at the end of each iteration.\n",
    "\n",
    "## 12. Functions\n",
    "\n",
    "A Function is a set or block of code which will be executed when called. It promotes reusability in programming.\n",
    "\n",
    "### Declare a Function\n",
    "\n",
    "To define or declare a function, you specify the type of data it will return, the name of the function followed by parenthesis and curly braces.\n",
    "\n",
    "#### Syntax\n",
    "\n",
    "```C++\n",
    "type functionName()\n",
    "{\n",
    "    // code to run when function is called    \n",
    "}\n",
    "```\n",
    "\n",
    "The type of data to return can be any of the Data Types we covered earlier as well as another Data Type which is `void`. The `void` data type signifies that your function isn't required to return anything.\n",
    "\n",
    "#### Example"
   ]
  },
  {
   "cell_type": "code",
   "execution_count": null,
   "id": "b8d7a2d4-05d3-4379-b108-5fb586dc1478",
   "metadata": {},
   "outputs": [],
   "source": [
    "void myFunction()\n",
    "{\n",
    "    // do something\n",
    "}"
   ]
  },
  {
   "cell_type": "markdown",
   "id": "8bb2bdc1-9ccb-4258-ac7f-e4be7c84b565",
   "metadata": {},
   "source": [
    "If you want the function to return data, for example, an integer the syntax is an follows:\n",
    "\n",
    "```C++\n",
    "int myFunction()\n",
    "{\n",
    "    // do something\n",
    "    return integerValue;\n",
    "}\n",
    "```\n",
    "\n",
    "#### Example"
   ]
  },
  {
   "cell_type": "code",
   "execution_count": null,
   "id": "5becce19-c9b3-45c3-a5d5-bc2c255f2cb2",
   "metadata": {},
   "outputs": [],
   "source": [
    "// declare function\n",
    "int calcAge()\n",
    "{\n",
    "    int myAge = 18; // you can do calculations and other operations\n",
    "    return myAge; // then you return the value you want using the return keyword\n",
    "}\n",
    "\n",
    "int main()\n",
    "{\n",
    "    return 0;\n",
    "}"
   ]
  },
  {
   "cell_type": "markdown",
   "id": "3d94c387-b2d9-4cbf-aa7e-e686544cb8c0",
   "metadata": {},
   "source": [
    "### Function Declaration Placement\n",
    "\n",
    "When declaring functions, there are 2 ways to do it:\n",
    "1. Declare the function before the `main` function,\n",
    "2. Create a declaration of the function at the top and then write the function at the bottom.\n",
    "\n",
    "#### 1. Declare the function before the `main` function\n",
    "\n",
    "This is the simplest method which is illustrated by the example above. However, sometimes your main code will be inside the `main` function, thus it will a tedious task to always scroll down to be able to work on your `main` function.\n",
    "\n",
    "#### 2. Create a declaration of the function at the top and then write the function at the bottom.\n",
    "\n",
    "To create a declaration:\n",
    "\n",
    "##### Syntax\n",
    "\n",
    "```C++\n",
    "type functionName();\n",
    "```\n",
    "\n",
    "You then place that declaration at the top of the file (above the main function). Then you can write your function anywhere.\n",
    "\n",
    "##### Example"
   ]
  },
  {
   "cell_type": "code",
   "execution_count": null,
   "id": "668694de-18e6-418e-9a9b-021b6b342040",
   "metadata": {},
   "outputs": [],
   "source": [
    "void calcAge(); // Function Declaration\n",
    "\n",
    "int main()\n",
    "{\n",
    "    // do something\n",
    "}\n",
    "\n",
    "void calcAge()\n",
    "{\n",
    "    // calculate age\n",
    "}"
   ]
  },
  {
   "cell_type": "markdown",
   "id": "a7044660-b059-42f8-bdc4-3cac7462ec95",
   "metadata": {},
   "source": [
    "To use the function within your code:\n",
    "\n",
    "#### Syntax\n",
    "\n",
    "```C++\n",
    "    functionName();\n",
    "```\n",
    "\n",
    "This will call your function and it's code will be excuted then the program will resume at the line after you called the function.\n",
    "\n",
    "### Function Parameters\n",
    "\n",
    "In some cases, you may need to pass information to the function. This can be achieved using function parameters.\n",
    "\n",
    "A parameter is like a variable that can be used within your function. To pass a parameter to a function to need to include the type of parameter in your function definition:\n",
    "\n",
    "#### Syntax\n",
    "\n",
    "```C++\n",
    "type functionName(type, type); // Function Declaration\n",
    "\n",
    "//Function Definition\n",
    "type functionName(type parameter1, type parameter2)\n",
    "{\n",
    "    //do something with parameter1 and parameter2\n",
    "}\n",
    "```\n",
    "\n",
    "In the Function Declaration, you list your parameters data types separated by commas, no need to include the parameter names.<br>\n",
    "For the Function Definition, that's where you need to include the parameter names as well as their data types.\n",
    "\n",
    "#### Example"
   ]
  },
  {
   "cell_type": "code",
   "execution_count": null,
   "id": "f096abfc-6e29-42cc-8c05-cf49ec85a80b",
   "metadata": {},
   "outputs": [],
   "source": [
    "int calcAge(int); // Function Declaration\n",
    "\n",
    "int main()\n",
    "{\n",
    "    // call function\n",
    "    calcAge(2002);\n",
    "}\n",
    "\n",
    "int calcAge(int dob)\n",
    "{\n",
    "    // calculate age\n",
    "    int age = 2023 - dob;\n",
    "return age;\n",
    "}"
   ]
  },
  {
   "cell_type": "markdown",
   "id": "d4493f03-c0fc-4b53-bcfa-21e6937cdfd5",
   "metadata": {},
   "source": [
    "#### Code Explained\n",
    "\n",
    "- `int calcAge(int);` We declare a function that returns an *int* and accepts an *int* as a parameter.\n",
    "- `calcAge(2002);` Here we call our function and pass it a value of *2002* as the `dob` parameter.\n",
    "- `int calcAge(int dob)` We define our function and give the parameter a name we can use later on.\n",
    "- `int age = 2023 - dob;` Here, we define a variable called *age* and assign it a value which is a result of the mathematical operation `2023 - dob`.\n",
    "- `return age;` Finally, we return the result to the main function.\n",
    "\n",
    "**Note:** The `return` keyword will stop the execution of code after it and thus exits the function.\n",
    "\n",
    "**Can you create a program that does the following:**\n",
    "- Asks the user's name,\n",
    "- Asks the user's date of birth,\n",
    "- Calculates the user's age,\n",
    "- Checks if user is eligible to get a driver's license,\n",
    "- Displays the information to the user.\n",
    "<br><br>\n",
    "\n",
    "> #### Further Reading\n",
    "> [C++ Structures](https://www.w3schools.com/cpp/cpp_structs.asp)<br>\n",
    "> [C++ Break/Continue](https://www.w3schools.com/cpp/cpp_break.asp)<br>\n",
    "> [C++ References](https://www.w3schools.com/cpp/cpp_references.asp)<br>\n",
    "> [C++ Pointers](https://www.w3schools.com/cpp/cpp_pointers.asp)<br>\n",
    "> [C++ Classes](https://www.w3schools.com/cpp/cpp_oop.asp)<br>\n",
    "> Feel free to go through the tutorial on W3schools and other sites to further your understanding in C++"
   ]
  }
 ],
 "metadata": {
  "kernelspec": {
   "display_name": "C++ 14",
   "language": "cpp",
   "name": "cpp14"
  },
  "language_info": {
   "file_extension": ".cpp",
   "mimetype": "text/x-csrc",
   "name": "text/x-csrc"
  }
 },
 "nbformat": 4,
 "nbformat_minor": 5
}
